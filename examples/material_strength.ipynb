{
 "cells": [
  {
   "cell_type": "markdown",
   "id": "73a88bcb-ffcb-4b96-90e4-b8422c627f3c",
   "metadata": {},
   "source": [
    "# Calibrating Material Strength Models with IMPALA\n",
    "This document summarizes the current IMPALA functionality for calibrating material strength models using the model class **ModelMaterialStrength** for Hopkinson Bar and Quasistatic experiments. This class assumes the observed data for a given experiment consist of an initial temperature (Kelvin), a strain rate (per microseconds), and vectors with strains (unitless) and stress values (megabars).\n",
    "\n",
    "**Note:** We provide suggested uits for each of the inputs, but the code is written such that users can enter data and corresponding model constants in whatever units they want, provided that the units are all internally consistent. "
   ]
  },
  {
   "cell_type": "markdown",
   "id": "317605ac",
   "metadata": {},
   "source": [
    "\n",
    "### About ModelMaterialStrength\n",
    "\n",
    "Models of class **ModelMaterialStrength** are defined using the following physics inputs:\n",
    "\n",
    "1. **temps**    :   a list of temperatures indexed by experiment (Kelvin)\n",
    "2. **edots**    :   list of strain rates indexed by experiment (per microsecond)\n",
    "3. **consts**   :   a dictionary of constants for the material stress model. See next section for more details. \n",
    "4. **strain_histories**     :   a list of strain histories for Hopkinson Bar/Quasistatic experiments (unitless between 0 and 1, relative to starting length)\n",
    "5. **flow_stress_model**    :   model for flow/yield stress. Options include constant (perfect plasticity), Johnson-Cook, Preston-Tonks-Wallance, and Stein\n",
    "6. **melt_model**           :   model for melt temperature as a function of density. \n",
    "7. **shear_model**          :   model for shear modulus as a function of density and temperature\n",
    "8. **specific_heat_model**  :   model for specific heat as a function of temperature\n",
    "9. **density_model**        :   model for density as a function of temperature\n",
    "\n",
    "When the calibration model is set up, stress observations are in terms of megabars. "
   ]
  },
  {
   "cell_type": "markdown",
   "id": "dd680084",
   "metadata": {
    "vscode": {
     "languageId": "plaintext"
    }
   },
   "source": [
    "### Listing Options for Submodels\n",
    "\n",
    "Many different flow stress, melt, shear, specific heat, and density models have been implemented, and users can specify which of models that make sense for their material of interest. Each specified model is associated with additional constants, which are specified in the consts dictionary in the **ModelMaterialStrength** call. Alternatively, users can specify their own functions for these different models. These functions should follow the input/output structure of the options already implemented in IMPALA, and corresponding constants should be added on the constants dictionary in **ModelMaterialStrength**. \n",
    "\n",
    "Below, we list the options currently implemented for each model. The model structure and corresponding constants can be accessed using **showdef_ModelMaterialStrength(str_model_name)**."
   ]
  },
  {
   "cell_type": "code",
   "execution_count": 6,
   "id": "35fb3b5b",
   "metadata": {},
   "outputs": [
    {
     "name": "stdout",
     "output_type": "stream",
     "text": [
      "['Constant_Yield_Stress', 'JC_Yield_Stress', 'PTW_Yield_Stress', 'Stein_Flow_Stress']\n",
      "['BGP_Melt_Temperature', 'Constant_Melt_Temperature', 'Linear_Melt_Temperature', 'Quadratic_Melt_Temperature']\n",
      "['BGP_PW_Shear_Modulus', 'Constant_Shear_Modulus', 'Linear_Cold_PW_Shear_Modulus', 'Quadratic_Cold_PW_Shear_Modulus', 'Simple_Shear_Modulus', 'Stein_Shear_Modulus']\n",
      "['Constant_Specific_Heat', 'Linear_Specific_Heat', 'Piecewise_Linear_Specific_Heat', 'Piecewise_Quadratic_Specific_Heat', 'Quadratic_Specific_Heat']\n",
      "['Constant_Density', 'Cubic_Density', 'Linear_Density', 'Quadratic_Density']\n"
     ]
    }
   ],
   "source": [
    "import impala.superCal.models_withLik as ml\n",
    "\n",
    "print(ml.getoptions_ModelMaterialStrength()[\"flow_stress_model\"])\n",
    "print(ml.getoptions_ModelMaterialStrength()[\"melt_model\"])\n",
    "print(ml.getoptions_ModelMaterialStrength()[\"shear_model\"])\n",
    "print(ml.getoptions_ModelMaterialStrength()[\"specific_heat_model\"])\n",
    "print(ml.getoptions_ModelMaterialStrength()[\"density_model\"])"
   ]
  },
  {
   "cell_type": "code",
   "execution_count": 10,
   "id": "956f1305",
   "metadata": {},
   "outputs": [
    {
     "name": "stdout",
     "output_type": "stream",
     "text": [
      "class Piecewise_Quadratic_Specific_Heat(BaseModel):\n",
      "    \"\"\"\n",
      "   Piecewise Quadratic Specific Heat Model\n",
      "   Cv (T) = c0_0 + c1_0 * T + c2_0 * T**2 for T<=T_t\n",
      "   Cv (T) = c0_1 + c1_1 * T + c2_1 * T**2 for T>T_t          \n",
      "   \"\"\"\n",
      "    consts = ['T_t','c0_0', 'c1_0', 'c2_0', 'c0_1', 'c1_1', 'c2_1']\n",
      "    def value(self, *args):\n",
      "        tnow=self.parent.state.T\n",
      "        pow_0_coeff = np.repeat(self.parent.parameters.c0_0,len(tnow))\n",
      "        pow_1_coeff = np.repeat(self.parent.parameters.c1_0,len(tnow))\n",
      "        pow_2_coeff = np.repeat(self.parent.parameters.c2_0,len(tnow))\n",
      "        \n",
      "        pow_0_coeff[np.where(tnow > self.parent.parameters.T_t)] =  self.parent.parameters.c0_1\n",
      "        pow_1_coeff[np.where(tnow > self.parent.parameters.T_t)] =  self.parent.parameters.c1_1\n",
      "        pow_2_coeff[np.where(tnow > self.parent.parameters.T_t)] =  self.parent.parameters.c2_1\n",
      "        \n",
      "        cnow = pow_0_coeff + pow_1_coeff * tnow + pow_2_coeff * tnow * tnow\n",
      "        return cnow\n",
      "\n",
      "None\n"
     ]
    }
   ],
   "source": [
    "print(ml.showdef_ModelMaterialStrength(\"Piecewise_Quadratic_Specific_Heat\"))"
   ]
  }
 ],
 "metadata": {
  "kernelspec": {
   "display_name": "Python 3 (ipykernel)",
   "language": "python",
   "name": "python3"
  },
  "language_info": {
   "codemirror_mode": {
    "name": "ipython",
    "version": 3
   },
   "file_extension": ".py",
   "mimetype": "text/x-python",
   "name": "python",
   "nbconvert_exporter": "python",
   "pygments_lexer": "ipython3",
   "version": "3.8.18"
  }
 },
 "nbformat": 4,
 "nbformat_minor": 5
}
